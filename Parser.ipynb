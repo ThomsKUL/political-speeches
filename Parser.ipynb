{
 "cells": [
  {
   "cell_type": "code",
   "execution_count": null,
   "id": "a374018a",
   "metadata": {
    "scrolled": true
   },
   "outputs": [],
   "source": [
    "#Source: https://stackoverflow.com/questions/58812642/unable-to-scrape-the-conversation-among-debaters-in-order-to-put-them-in-a-dicti\n",
    "import requests, re\n",
    "from bs4 import BeautifulSoup as bs\n",
    "from IPython.display import HTML\n",
    "import pprint\n",
    "from bs4 import BeautifulSoup\n",
    "\n",
    "\n",
    "debates = requests.get('http://www.presidency.ucsb.edu/debates.php')\n",
    "soup = BeautifulSoup(debates.content, 'html.parser')\n",
    "data = []\n",
    "links = []\n",
    "\n",
    "def remove_duplicates(l):\n",
    "    for item in l:\n",
    "        match = re.search(\"(?P<url>https?://[^\\s]+)\", item)\n",
    "        if match is not None:\n",
    "            links.append((match.group(\"url\")))\n",
    "\n",
    "\n",
    "for link in soup.select('#block-system-main a', href=True):\n",
    "    data.append(str(link.get('href')))\n",
    "flag = True\n",
    "remove_duplicates(data)\n",
    "\n",
    "for url in links:\n",
    "    print(url)\n"
   ]
  },
  {
   "cell_type": "code",
   "execution_count": null,
   "id": "af52d790",
   "metadata": {
    "scrolled": false
   },
   "outputs": [],
   "source": [
    "#Source: https://stackoverflow.com/questions/58812642/unable-to-scrape-the-conversation-among-debaters-in-order-to-put-them-in-a-dicti\n",
    "results = {}\n",
    "p = re.compile(r'\\b(\\w+)\\b\\s+\\(|\\b(\\w+)\\b,')\n",
    "\n",
    "with requests.Session() as s:\n",
    "    for number, link in enumerate(links):\n",
    "        r = s.get(link)\n",
    "        soup = bs(r.content,'lxml')\n",
    "        try:\n",
    "            participants_tag = soup.select_one('p:has(strong:contains(\"PARTICIPANTS:\"))')\n",
    "            if participants_tag.select_one('strong'):\n",
    "                participants_tag.strong.decompose()\n",
    "            speaker_dict = {i[0].upper() + ':' if i[0] else i[1].upper() + ':': [] for string in participants_tag.stripped_strings for i in p.findall(string)}\n",
    "            print(speaker_dict)\n",
    "            moderator_data = [string for string in soup.select_one('p:has(strong:contains(\"MODERATOR:\",\"MODERATORS:\"))').stripped_strings][1:]\n",
    "            moderators = [i[0].upper() + ':' if i[0] else i[1].upper() + ':' for string in moderator_data for i in p.findall(string)]\n",
    "            store_paragraph = False\n",
    "\n",
    "            for paragraph in soup.select('.field-docs-content p:not(p:contains(\"PARTICIPANTS:\",\"MODERATOR:\"))')[1:]:\n",
    "                string_to_compare = paragraph.text.split(':')[0] + ':'\n",
    "                string_to_compare = string_to_compare.upper()\n",
    "                if string_to_compare in moderators:\n",
    "                    store_paragraph = False\n",
    "                elif string_to_compare in speaker_dict:\n",
    "                    speaker = string_to_compare\n",
    "                    store_paragraph = True\n",
    "                if store_paragraph:\n",
    "                    speaker_dict[speaker].append(paragraph.text)\n",
    "            results[number] = speaker_dict\n",
    "        except: \n",
    "            pass            "
   ]
  },
  {
   "cell_type": "code",
   "execution_count": null,
   "id": "fb8aea3f",
   "metadata": {},
   "outputs": [],
   "source": [
    "import csv\n",
    "\n",
    "with open('debates_v3.csv', 'w') as csv_file:  \n",
    "    writer = csv.writer(csv_file)\n",
    "    for key, value in results.items():\n",
    "       writer.writerow([key, value])"
   ]
  },
  {
   "cell_type": "code",
   "execution_count": null,
   "id": "d2c9e105",
   "metadata": {},
   "outputs": [],
   "source": [
    "import json\n",
    "\n",
    "with open('results.json', 'w') as fp:\n",
    "    json.dump(results, fp)"
   ]
  }
 ],
 "metadata": {
  "kernelspec": {
   "display_name": "Python 3 (ipykernel)",
   "language": "python",
   "name": "python3"
  },
  "language_info": {
   "codemirror_mode": {
    "name": "ipython",
    "version": 3
   },
   "file_extension": ".py",
   "mimetype": "text/x-python",
   "name": "python",
   "nbconvert_exporter": "python",
   "pygments_lexer": "ipython3",
   "version": "3.8.10"
  }
 },
 "nbformat": 4,
 "nbformat_minor": 5
}
